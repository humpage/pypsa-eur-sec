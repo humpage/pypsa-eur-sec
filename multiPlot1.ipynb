{
 "cells": [
  {
   "cell_type": "code",
   "execution_count": 1,
   "metadata": {},
   "outputs": [],
   "source": [
    "import pypsa"
   ]
  },
  {
   "cell_type": "code",
   "execution_count": 2,
   "metadata": {},
   "outputs": [],
   "source": [
    "import matplotlib.pyplot as plt\n",
    "plt.style.use(\"bmh\")\n",
    "%matplotlib inline\n",
    "import numpy as np"
   ]
  },
  {
   "cell_type": "code",
   "execution_count": 20,
   "metadata": {},
   "outputs": [
    {
     "name": "stderr",
     "output_type": "stream",
     "text": [
      "/home/millinger/miniconda3/envs/pypsa-eur/lib/python3.8/site-packages/pypsa/io.py:769: FutureWarning: Index.__or__ operating as a set operation is deprecated, in the future this will be a logical operation matching Series.__or__.  Use index.union(other) instead\n",
      "  pnl[attr] = pnl[attr].reindex(columns=df.index | columns, fill_value=default)\n",
      "/home/millinger/miniconda3/envs/pypsa-eur/lib/python3.8/site-packages/pypsa/io.py:771: FutureWarning: Index.__or__ operating as a set operation is deprecated, in the future this will be a logical operation matching Series.__or__.  Use index.union(other) instead\n",
      "  pnl[attr] = pnl[attr].reindex(columns=(pnl[attr].columns | columns))\n",
      "INFO:pypsa.io:Imported network elec_s_37_lvopt__Co2L0p05-97H-T-H-B0p0-I-S0_2050.nc has buses, carriers, generators, global_constraints, links, loads, storage_units, stores\n",
      "/home/millinger/miniconda3/envs/pypsa-eur/lib/python3.8/site-packages/pypsa/io.py:769: FutureWarning: Index.__or__ operating as a set operation is deprecated, in the future this will be a logical operation matching Series.__or__.  Use index.union(other) instead\n",
      "  pnl[attr] = pnl[attr].reindex(columns=df.index | columns, fill_value=default)\n",
      "/home/millinger/miniconda3/envs/pypsa-eur/lib/python3.8/site-packages/pypsa/io.py:771: FutureWarning: Index.__or__ operating as a set operation is deprecated, in the future this will be a logical operation matching Series.__or__.  Use index.union(other) instead\n",
      "  pnl[attr] = pnl[attr].reindex(columns=(pnl[attr].columns | columns))\n",
      "INFO:pypsa.io:Imported network elec_s_37_lvopt__Co2L0p05-97H-T-H-B0p5-I-S0_2050.nc has buses, carriers, generators, global_constraints, links, loads, storage_units, stores\n",
      "/home/millinger/miniconda3/envs/pypsa-eur/lib/python3.8/site-packages/pypsa/io.py:769: FutureWarning: Index.__or__ operating as a set operation is deprecated, in the future this will be a logical operation matching Series.__or__.  Use index.union(other) instead\n",
      "  pnl[attr] = pnl[attr].reindex(columns=df.index | columns, fill_value=default)\n",
      "/home/millinger/miniconda3/envs/pypsa-eur/lib/python3.8/site-packages/pypsa/io.py:771: FutureWarning: Index.__or__ operating as a set operation is deprecated, in the future this will be a logical operation matching Series.__or__.  Use index.union(other) instead\n",
      "  pnl[attr] = pnl[attr].reindex(columns=(pnl[attr].columns | columns))\n",
      "INFO:pypsa.io:Imported network elec_s_37_lvopt__Co2L0p05-97H-T-H-B0p0-I-S300_2050.nc has buses, carriers, generators, global_constraints, links, loads, storage_units, stores\n",
      "/home/millinger/miniconda3/envs/pypsa-eur/lib/python3.8/site-packages/pypsa/io.py:769: FutureWarning: Index.__or__ operating as a set operation is deprecated, in the future this will be a logical operation matching Series.__or__.  Use index.union(other) instead\n",
      "  pnl[attr] = pnl[attr].reindex(columns=df.index | columns, fill_value=default)\n",
      "/home/millinger/miniconda3/envs/pypsa-eur/lib/python3.8/site-packages/pypsa/io.py:771: FutureWarning: Index.__or__ operating as a set operation is deprecated, in the future this will be a logical operation matching Series.__or__.  Use index.union(other) instead\n",
      "  pnl[attr] = pnl[attr].reindex(columns=(pnl[attr].columns | columns))\n",
      "INFO:pypsa.io:Imported network elec_s_37_lvopt__Co2L0p05-97H-T-H-B0p5-I-S300_2050.nc has buses, carriers, generators, global_constraints, links, loads, storage_units, stores\n",
      "/home/millinger/miniconda3/envs/pypsa-eur/lib/python3.8/site-packages/pypsa/io.py:769: FutureWarning: Index.__or__ operating as a set operation is deprecated, in the future this will be a logical operation matching Series.__or__.  Use index.union(other) instead\n",
      "  pnl[attr] = pnl[attr].reindex(columns=df.index | columns, fill_value=default)\n",
      "/home/millinger/miniconda3/envs/pypsa-eur/lib/python3.8/site-packages/pypsa/io.py:771: FutureWarning: Index.__or__ operating as a set operation is deprecated, in the future this will be a logical operation matching Series.__or__.  Use index.union(other) instead\n",
      "  pnl[attr] = pnl[attr].reindex(columns=(pnl[attr].columns | columns))\n",
      "INFO:pypsa.io:Imported network elec_s_37_lvopt__Co2L0p05-97H-T-H-B1p0-I-S300_2050.nc has buses, carriers, generators, global_constraints, links, loads, storage_units, stores\n"
     ]
    }
   ],
   "source": [
    "nB00S0 = pypsa.Network(\"results/hiB/postnetworks/elec_s_37_lvopt__Co2L0p05-97H-T-H-B0p0-I-S0_2050.nc\")\n",
    "nB05S0 = pypsa.Network(\"results/hiB/postnetworks/elec_s_37_lvopt__Co2L0p05-97H-T-H-B0p5-I-S0_2050.nc\")\n",
    "\n",
    "nB00S300 = pypsa.Network(\"results/hiB/postnetworks/elec_s_37_lvopt__Co2L0p05-97H-T-H-B0p0-I-S300_2050.nc\")\n",
    "nB05S300 = pypsa.Network(\"results/hiB/postnetworks/elec_s_37_lvopt__Co2L0p05-97H-T-H-B0p5-I-S300_2050.nc\")\n",
    "nB10S300 = pypsa.Network(\"results/hiB/postnetworks/elec_s_37_lvopt__Co2L0p05-97H-T-H-B1p0-I-S300_2050.nc\")\n",
    "\n",
    "#nS300 = pypsa.Network(\"results/hiB/postnetworks/elec_s_37_lvopt__Co2L0p05-97H-T-H-I-S1000_2050.nc\")"
   ]
  },
  {
   "cell_type": "code",
   "execution_count": 15,
   "metadata": {},
   "outputs": [
    {
     "data": {
      "image/png": "[encoded data removed]",
      "text/plain": [
       "<Figure size 432x288 with 1 Axes>"
      ]
     },
     "metadata": {
      "needs_background": "light"
     },
     "output_type": "display_data"
    }
   ],
   "source": [
    "labels = ['0% bF','50% bF','100% bF']\n",
    "\n",
    "costs1 = [nB00S0.objective,nB05S0.objective,0]#,nB10S0.objective]\n",
    "costs2 = [nB00S300.objective,nB05S300.objective,nB10S300.objective]\n",
    "#costs3 = [nS0.objective,0,0]\n",
    "#costs2 = [n1_2_min20.objective,n2_2_min20.objective,n3_2_min20.objective]\n",
    "#costs3 = [n1_1_05.objective,n2_1_05.objective,n3_1_05.objective]\n",
    "#costs4 = [n1_2_05.objective,n2_2_05.objective,n3_2_05.objective]\n",
    "x = np.arange(len(costs1))  # the label locations\n",
    "width = 0.35  # the width of the bars\n",
    "\n",
    "#plt.bar(x,costs,width)#,2,n2.objective,3,n3.objective) #billion EUR p.a.\n",
    "fig, ax = plt.subplots()\n",
    "#rects1 = ax.bar(x - width, costs4, width/2, label='300 MtCO2 storage, -95%')\n",
    "#rects2 = ax.bar(x - width/2, costs3, width/2, label='3000 MtCO2 storage, -95%')\n",
    "rects3 = ax.bar(x, costs2, width/2, label='300 MtCO2 storage, -120%')\n",
    "rects4 = ax.bar(x + width/2, costs1, width/2, label='0 MtCO2 storage, -95%')\n",
    "\n",
    "# Add some text for labels, title and custom x-axis tick labels, etc.\n",
    "ax.set_ylabel('Total cost')\n",
    "#ax.set_title('Scores by group and gender')\n",
    "ax.set_xticks(x)\n",
    "ax.set_xticklabels(labels)\n",
    "ax.legend()\n",
    "\n",
    "\n",
    "def autolabel(rects):\n",
    "    \"\"\"Attach a text label above each bar in *rects*, displaying its height.\"\"\"\n",
    "    for rect in rects:\n",
    "        height = int(rect.get_height() / 1e9)\n",
    "        ax.annotate('{}'.format(height),\n",
    "                    xy=(rect.get_x() + rect.get_width() / 2, height*1e9),\n",
    "                    xytext=(0, 3),  # 3 points vertical offset\n",
    "                    textcoords=\"offset points\",\n",
    "                    ha='center', va='bottom')\n",
    "\n",
    "\n",
    "#autolabel(rects1)\n",
    "#autolabel(rects2)\n",
    "autolabel(rects3)\n",
    "autolabel(rects4)\n",
    "\n",
    "fig.tight_layout()"
   ]
  },
  {
   "cell_type": "code",
   "execution_count": 17,
   "metadata": {},
   "outputs": [
    {
     "data": {
      "text/plain": [
       "892.6433873601857"
      ]
     },
     "execution_count": 17,
     "metadata": {},
     "output_type": "execute_result"
    }
   ],
   "source": [
    "nB05S300.objective / 1e9"
   ]
  },
  {
   "cell_type": "code",
   "execution_count": 19,
   "metadata": {},
   "outputs": [
    {
     "data": {
      "text/plain": [
       "29230.558798876034"
      ]
     },
     "execution_count": 19,
     "metadata": {},
     "output_type": "execute_result"
    }
   ],
   "source": [
    "nB05S0.objective / 1e9"
   ]
  },
  {
   "cell_type": "code",
   "execution_count": 34,
   "metadata": {},
   "outputs": [
    {
     "ename": "AttributeError",
     "evalue": "'Network' object has no attribute 'dualvalues'",
     "output_type": "error",
     "traceback": [
      "\u001b[0;31m---------------------------------------------------------------------------\u001b[0m",
      "\u001b[0;31mAttributeError\u001b[0m                            Traceback (most recent call last)",
      "\u001b[0;32m<ipython-input-34-8e9f4053e18d>\u001b[0m in \u001b[0;36m<module>\u001b[0;34m\u001b[0m\n\u001b[0;32m----> 1\u001b[0;31m \u001b[0mpypsa\u001b[0m\u001b[0;34m.\u001b[0m\u001b[0mlinopt\u001b[0m\u001b[0;34m.\u001b[0m\u001b[0mget_dual\u001b[0m\u001b[0;34m(\u001b[0m\u001b[0mnB05S300\u001b[0m\u001b[0;34m,\u001b[0m\u001b[0;34m'GlobalConstraint'\u001b[0m\u001b[0;34m)\u001b[0m\u001b[0;34m\u001b[0m\u001b[0;34m\u001b[0m\u001b[0m\n\u001b[0m",
      "\u001b[0;32m~/miniconda3/envs/pypsa-eur/lib/python3.8/site-packages/pypsa/linopt.py\u001b[0m in \u001b[0;36mget_dual\u001b[0;34m(n, name, attr)\u001b[0m\n\u001b[1;32m    539\u001b[0m     \u001b[0mget_dual\u001b[0m\u001b[0;34m(\u001b[0m\u001b[0mn\u001b[0m\u001b[0;34m,\u001b[0m \u001b[0;34m'Generator'\u001b[0m\u001b[0;34m,\u001b[0m \u001b[0;34m'mu_upper'\u001b[0m\u001b[0;34m)\u001b[0m\u001b[0;34m\u001b[0m\u001b[0;34m\u001b[0m\u001b[0m\n\u001b[1;32m    540\u001b[0m     \"\"\"\n\u001b[0;32m--> 541\u001b[0;31m     \u001b[0mpnl\u001b[0m \u001b[0;34m=\u001b[0m \u001b[0mn\u001b[0m\u001b[0;34m.\u001b[0m\u001b[0mdualvalues\u001b[0m\u001b[0;34m.\u001b[0m\u001b[0mat\u001b[0m\u001b[0;34m[\u001b[0m\u001b[0;34m(\u001b[0m\u001b[0mname\u001b[0m\u001b[0;34m,\u001b[0m \u001b[0mattr\u001b[0m\u001b[0;34m)\u001b[0m\u001b[0;34m,\u001b[0m \u001b[0;34m'pnl'\u001b[0m\u001b[0;34m]\u001b[0m\u001b[0;34m\u001b[0m\u001b[0;34m\u001b[0m\u001b[0m\n\u001b[0m\u001b[1;32m    542\u001b[0m     \u001b[0;32mif\u001b[0m \u001b[0mn\u001b[0m\u001b[0;34m.\u001b[0m\u001b[0mdualvalues\u001b[0m\u001b[0;34m.\u001b[0m\u001b[0mat\u001b[0m\u001b[0;34m[\u001b[0m\u001b[0;34m(\u001b[0m\u001b[0mname\u001b[0m\u001b[0;34m,\u001b[0m \u001b[0mattr\u001b[0m\u001b[0;34m)\u001b[0m\u001b[0;34m,\u001b[0m \u001b[0;34m'in_comp'\u001b[0m\u001b[0;34m]\u001b[0m\u001b[0;34m:\u001b[0m\u001b[0;34m\u001b[0m\u001b[0;34m\u001b[0m\u001b[0m\n\u001b[1;32m    543\u001b[0m         \u001b[0;32mreturn\u001b[0m \u001b[0mn\u001b[0m\u001b[0;34m.\u001b[0m\u001b[0mpnl\u001b[0m\u001b[0;34m(\u001b[0m\u001b[0mname\u001b[0m\u001b[0;34m)\u001b[0m\u001b[0;34m[\u001b[0m\u001b[0mattr\u001b[0m\u001b[0;34m]\u001b[0m \u001b[0;32mif\u001b[0m \u001b[0mpnl\u001b[0m \u001b[0;32melse\u001b[0m \u001b[0mn\u001b[0m\u001b[0;34m.\u001b[0m\u001b[0mdf\u001b[0m\u001b[0;34m(\u001b[0m\u001b[0mname\u001b[0m\u001b[0;34m)\u001b[0m\u001b[0;34m[\u001b[0m\u001b[0mattr\u001b[0m\u001b[0;34m]\u001b[0m\u001b[0;34m\u001b[0m\u001b[0;34m\u001b[0m\u001b[0m\n",
      "\u001b[0;31mAttributeError\u001b[0m: 'Network' object has no attribute 'dualvalues'"
     ]
    }
   ],
   "source": [
    "pypsa.linopt.get_dual(nB05S300,'GlobalConstraint')"
   ]
  },
  {
   "cell_type": "code",
   "execution_count": 3,
   "metadata": {},
   "outputs": [
    {
     "name": "stderr",
     "output_type": "stream",
     "text": [
      "/home/millinger/miniconda3/envs/pypsa-eur/lib/python3.8/site-packages/pypsa/io.py:769: FutureWarning: Index.__or__ operating as a set operation is deprecated, in the future this will be a logical operation matching Series.__or__.  Use index.union(other) instead\n",
      "  pnl[attr] = pnl[attr].reindex(columns=df.index | columns, fill_value=default)\n",
      "/home/millinger/miniconda3/envs/pypsa-eur/lib/python3.8/site-packages/pypsa/io.py:771: FutureWarning: Index.__or__ operating as a set operation is deprecated, in the future this will be a logical operation matching Series.__or__.  Use index.union(other) instead\n",
      "  pnl[attr] = pnl[attr].reindex(columns=(pnl[attr].columns | columns))\n",
      "INFO:pypsa.io:Imported network elec_s_37_lvopt__Co2L0p05-97H-T-H-B0p0-I-S1000_2050.nc has buses, carriers, generators, global_constraints, links, loads, storage_units, stores\n"
     ]
    }
   ],
   "source": [
    "nB00S1000 = pypsa.Network(\"results/hiB4/postnetworks/elec_s_37_lvopt__Co2L0p05-97H-T-H-B0p0-I-S1000_2050.nc\")"
   ]
  },
  {
   "cell_type": "code",
   "execution_count": 8,
   "metadata": {},
   "outputs": [
    {
     "ename": "AttributeError",
     "evalue": "'Network' object has no attribute 'duals'",
     "output_type": "error",
     "traceback": [
      "\u001b[0;31m---------------------------------------------------------------------------\u001b[0m",
      "\u001b[0;31mAttributeError\u001b[0m                            Traceback (most recent call last)",
      "\u001b[0;32m<ipython-input-8-32a1d0bdd44f>\u001b[0m in \u001b[0;36m<module>\u001b[0;34m\u001b[0m\n\u001b[1;32m      1\u001b[0m \u001b[0;32mfrom\u001b[0m \u001b[0mpypsa\u001b[0m\u001b[0;34m.\u001b[0m\u001b[0mlinopt\u001b[0m \u001b[0;32mimport\u001b[0m \u001b[0mget_dual\u001b[0m\u001b[0;34m\u001b[0m\u001b[0;34m\u001b[0m\u001b[0m\n\u001b[0;32m----> 2\u001b[0;31m \u001b[0mnB00S1000\u001b[0m\u001b[0;34m.\u001b[0m\u001b[0mduals\u001b[0m\u001b[0;31m#values\u001b[0m\u001b[0;34m\u001b[0m\u001b[0;34m\u001b[0m\u001b[0m\n\u001b[0m\u001b[1;32m      3\u001b[0m \u001b[0mget_dual\u001b[0m\u001b[0;34m(\u001b[0m\u001b[0mnB00S1000\u001b[0m\u001b[0;34m,\u001b[0m\u001b[0;34m'Link'\u001b[0m\u001b[0;34m)\u001b[0m\u001b[0;34m\u001b[0m\u001b[0;34m\u001b[0m\u001b[0m\n",
      "\u001b[0;31mAttributeError\u001b[0m: 'Network' object has no attribute 'duals'"
     ]
    }
   ],
   "source": [
    "from pypsa.linopt import get_dual\n",
    "nB00S1000.duals#values\n",
    "get_dual(nB00S1000,'Link')"
   ]
  },
  {
   "cell_type": "code",
   "execution_count": 5,
   "metadata": {},
   "outputs": [
    {
     "data": {
      "image/png": "[encoded data removed]",
      "text/plain": [
       "<Figure size 432x288 with 1 Axes>"
      ]
     },
     "metadata": {
      "needs_background": "light"
     },
     "output_type": "display_data"
    }
   ],
   "source": [
    "labels = ['0% bF','50% bF','100% bF']\n",
    "\n",
    "costs1 = [n1_1_min20.objective,n2_1_min20.objective,n3_1_min20.objective]\n",
    "costs2 = [n1_2_min20.objective,n2_2_min20.objective,n3_2_min20.objective]\n",
    "costs3 = [n1_1_05.objective,n2_1_05.objective,n3_1_05.objective]\n",
    "costs4 = [n1_2_05.objective,n2_2_05.objective,n3_2_05.objective]\n",
    "x = np.arange(len(costs1))  # the label locations\n",
    "width = 0.35  # the width of the bars\n",
    "\n",
    "#plt.bar(x,costs,width)#,2,n2.objective,3,n3.objective) #billion EUR p.a.\n",
    "fig, ax = plt.subplots()\n",
    "rects1 = ax.bar(x - width, costs4, width/2, label='300 MtCO2 storage, -95%')\n",
    "rects2 = ax.bar(x - width/2, costs3, width/2, label='3000 MtCO2 storage, -95%')\n",
    "rects3 = ax.bar(x, costs2, width/2, label='300 MtCO2 storage, -120%')\n",
    "rects4 = ax.bar(x + width/2, costs1, width/2, label='3000 MtCO2 storage, -120%')\n",
    "\n",
    "# Add some text for labels, title and custom x-axis tick labels, etc.\n",
    "ax.set_ylabel('Total cost')\n",
    "#ax.set_title('Scores by group and gender')\n",
    "ax.set_xticks(x)\n",
    "ax.set_xticklabels(labels)\n",
    "ax.legend()\n",
    "\n",
    "\n",
    "def autolabel(rects):\n",
    "    \"\"\"Attach a text label above each bar in *rects*, displaying its height.\"\"\"\n",
    "    for rect in rects:\n",
    "        height = int(rect.get_height() / 1e9)\n",
    "        ax.annotate('{}'.format(height),\n",
    "                    xy=(rect.get_x() + rect.get_width() / 2, height*1e9),\n",
    "                    xytext=(0, 3),  # 3 points vertical offset\n",
    "                    textcoords=\"offset points\",\n",
    "                    ha='center', va='bottom')\n",
    "\n",
    "\n",
    "autolabel(rects1)\n",
    "autolabel(rects2)\n",
    "autolabel(rects3)\n",
    "autolabel(rects4)\n",
    "\n",
    "fig.tight_layout()\n"
   ]
  },
  {
   "cell_type": "code",
   "execution_count": 7,
   "metadata": {},
   "outputs": [
    {
     "name": "stderr",
     "output_type": "stream",
     "text": [
      "INFO:numexpr.utils:NumExpr defaulting to 6 threads.\n"
     ]
    },
    {
     "data": {
      "text/html": [
       "<div>\n",
       "<style scoped>\n",
       "    .dataframe tbody tr th:only-of-type {\n",
       "        vertical-align: middle;\n",
       "    }\n",
       "\n",
       "    .dataframe tbody tr th {\n",
       "        vertical-align: top;\n",
       "    }\n",
       "\n",
       "    .dataframe thead th {\n",
       "        text-align: right;\n",
       "    }\n",
       "</style>\n",
       "<table border=\"1\" class=\"dataframe\">\n",
       "  <thead>\n",
       "    <tr style=\"text-align: right;\">\n",
       "      <th>name</th>\n",
       "      <th>co2 stored</th>\n",
       "    </tr>\n",
       "    <tr>\n",
       "      <th>name</th>\n",
       "      <th></th>\n",
       "    </tr>\n",
       "  </thead>\n",
       "  <tbody>\n",
       "    <tr>\n",
       "      <th>2013-01-01 00:00:00</th>\n",
       "      <td>10.521040</td>\n",
       "    </tr>\n",
       "    <tr>\n",
       "      <th>2013-01-05 01:00:00</th>\n",
       "      <td>21.042191</td>\n",
       "    </tr>\n",
       "    <tr>\n",
       "      <th>2013-01-09 02:00:00</th>\n",
       "      <td>31.563341</td>\n",
       "    </tr>\n",
       "    <tr>\n",
       "      <th>2013-01-13 03:00:00</th>\n",
       "      <td>42.084491</td>\n",
       "    </tr>\n",
       "    <tr>\n",
       "      <th>2013-01-17 04:00:00</th>\n",
       "      <td>52.605641</td>\n",
       "    </tr>\n",
       "    <tr>\n",
       "      <th>...</th>\n",
       "      <td>...</td>\n",
       "    </tr>\n",
       "    <tr>\n",
       "      <th>2013-12-14 14:00:00</th>\n",
       "      <td>887.613071</td>\n",
       "    </tr>\n",
       "    <tr>\n",
       "      <th>2013-12-18 15:00:00</th>\n",
       "      <td>898.027214</td>\n",
       "    </tr>\n",
       "    <tr>\n",
       "      <th>2013-12-22 16:00:00</th>\n",
       "      <td>908.471997</td>\n",
       "    </tr>\n",
       "    <tr>\n",
       "      <th>2013-12-26 17:00:00</th>\n",
       "      <td>918.987767</td>\n",
       "    </tr>\n",
       "    <tr>\n",
       "      <th>2013-12-30 18:00:00</th>\n",
       "      <td>922.222924</td>\n",
       "    </tr>\n",
       "  </tbody>\n",
       "</table>\n",
       "<p>91 rows × 1 columns</p>\n",
       "</div>"
      ],
      "text/plain": [
       "name                 co2 stored\n",
       "name                           \n",
       "2013-01-01 00:00:00   10.521040\n",
       "2013-01-05 01:00:00   21.042191\n",
       "2013-01-09 02:00:00   31.563341\n",
       "2013-01-13 03:00:00   42.084491\n",
       "2013-01-17 04:00:00   52.605641\n",
       "...                         ...\n",
       "2013-12-14 14:00:00  887.613071\n",
       "2013-12-18 15:00:00  898.027214\n",
       "2013-12-22 16:00:00  908.471997\n",
       "2013-12-26 17:00:00  918.987767\n",
       "2013-12-30 18:00:00  922.222924\n",
       "\n",
       "[91 rows x 1 columns]"
      ]
     },
     "execution_count": 7,
     "metadata": {},
     "output_type": "execute_result"
    }
   ],
   "source": [
    "n.stores_t.e.filter(regex='co2 stored') /1e6#.sum() / 1e6 #MtCO2"
   ]
  },
  {
   "cell_type": "code",
   "execution_count": 24,
   "metadata": {},
   "outputs": [
    {
     "data": {
      "text/plain": [
       "name\n",
       "EU oil    50.009284\n",
       "dtype: float64"
      ]
     },
     "execution_count": 24,
     "metadata": {},
     "output_type": "execute_result"
    }
   ],
   "source": [
    "nB00S1000.buses_t.marginal_price.filter(regex='oil').mean()"
   ]
  },
  {
   "cell_type": "code",
   "execution_count": null,
   "metadata": {},
   "outputs": [],
   "source": []
  }
 ],
 "metadata": {
  "kernelspec": {
   "display_name": "Python 3",
   "language": "python",
   "name": "python3"
  },
  "language_info": {
   "codemirror_mode": {
    "name": "ipython",
    "version": 3
   },
   "file_extension": ".py",
   "mimetype": "text/x-python",
   "name": "python",
   "nbconvert_exporter": "python",
   "pygments_lexer": "ipython3",
   "version": "3.8.6"
  }
 },
 "nbformat": 4,
 "nbformat_minor": 4
}
